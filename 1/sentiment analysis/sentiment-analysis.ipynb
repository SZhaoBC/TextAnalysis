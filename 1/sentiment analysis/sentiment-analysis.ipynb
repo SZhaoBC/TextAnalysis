{
 "cells": [
  {
   "cell_type": "code",
   "execution_count": 1,
   "metadata": {},
   "outputs": [],
   "source": [
    "from nltk.stem import PorterStemmer\n",
    "from nltk.tokenize import word_tokenize\n",
    "from string import punctuation"
   ]
  },
  {
   "cell_type": "code",
   "execution_count": 2,
   "metadata": {},
   "outputs": [],
   "source": [
    "filename=\"positive.txt\"\n",
    "p_words = open(filename,\"r\")"
   ]
  },
  {
   "cell_type": "code",
   "execution_count": 3,
   "metadata": {},
   "outputs": [],
   "source": [
    "pos_words = [line.rstrip('\\n') for line in p_words]"
   ]
  },
  {
   "cell_type": "code",
   "execution_count": 4,
   "metadata": {},
   "outputs": [],
   "source": [
    "filename=\"negative.txt\"\n",
    "n_words = open(filename,\"r\")\n",
    "#n_words = open('negative-words.txt','r')"
   ]
  },
  {
   "cell_type": "code",
   "execution_count": 5,
   "metadata": {
    "scrolled": true
   },
   "outputs": [],
   "source": [
    "neg_words = [line.rstrip('\\n') for line in n_words]"
   ]
  },
  {
   "cell_type": "code",
   "execution_count": 7,
   "metadata": {},
   "outputs": [],
   "source": [
    "#import reviews\n",
    "reviews = open('scape1.csv','r')\n",
    "reviews_details =  [line.rstrip('\\n') for line in reviews]"
   ]
  },
  {
   "cell_type": "code",
   "execution_count": 8,
   "metadata": {},
   "outputs": [],
   "source": [
    "#stemming lexicon and reviews\n",
    "ps = PorterStemmer()\n",
    "filename=\"labeledDataset.csv\"\n",
    "f=open(filename,\"w\")\n",
    "headers=\"review,label\\n\"\n",
    "f.write(headers)\n",
    "for i in range(len(reviews_details)): # strip the punctuation\n",
    "    for p in list(punctuation):\n",
    "        reviews_details[i] = reviews_details[i].replace(p,\"\")\n",
    "        reviews_details[i] = reviews_details[i].replace('\\n',\"\")"
   ]
  },
  {
   "cell_type": "code",
   "execution_count": 9,
   "metadata": {},
   "outputs": [],
   "source": [
    "#sentiment analysis using Bing lexicon        \n",
    "for sentence in reviews_details:\n",
    "    words=word_tokenize(sentence)\n",
    "    pos_counter = 0\n",
    "    neg_counter = 0\n",
    "    \n",
    "    for w in words:\n",
    "      #  stemReview = ps.stem(w) # stemming for reviews\n",
    "        f.write(w+\" \")\n",
    "        if w in pos_words:\n",
    "            pos_counter +=1;\n",
    "        if w in neg_words:\n",
    "            neg_counter +=1;\n",
    "        #f.write(stemReview+\",\")\n",
    "        \n",
    "    if pos_counter>neg_counter:\n",
    "       f.write(\",\"+\"positive\")\n",
    "    if pos_counter<=neg_counter:\n",
    "       f.write(\",\"+\"negative\") \n",
    "    f.write(\"\\n\")\n",
    "f.close()"
   ]
  },
  {
   "cell_type": "code",
   "execution_count": null,
   "metadata": {},
   "outputs": [],
   "source": []
  }
 ],
 "metadata": {
  "kernelspec": {
   "display_name": "Python 3",
   "language": "python",
   "name": "python3"
  },
  "language_info": {
   "codemirror_mode": {
    "name": "ipython",
    "version": 3
   },
   "file_extension": ".py",
   "mimetype": "text/x-python",
   "name": "python",
   "nbconvert_exporter": "python",
   "pygments_lexer": "ipython3",
   "version": "3.6.6"
  }
 },
 "nbformat": 4,
 "nbformat_minor": 2
}
