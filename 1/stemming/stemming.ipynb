{
 "cells": [
  {
   "cell_type": "code",
   "execution_count": 1,
   "metadata": {},
   "outputs": [],
   "source": [
    "from nltk.stem import PorterStemmer\n",
    "from nltk.tokenize import word_tokenize"
   ]
  },
  {
   "cell_type": "code",
   "execution_count": 2,
   "metadata": {},
   "outputs": [],
   "source": [
    "ps = PorterStemmer()\n",
    "p_words = open('positive.txt','r')\n",
    "pos_words = [line.rstrip('\\n') for line in p_words]\n",
    "n_words = open('negative.txt','r')\n",
    "neg_words = [line.rstrip('\\n') for line in n_words]\n",
    "data = open('labeledDataset.csv','r')\n",
    "data_content = []\n",
    "for line in data:\n",
    "  line.rstrip('\\n') \n",
    "  data_content.append(list(line.strip().split(',')))"
   ]
  },
  {
   "cell_type": "code",
   "execution_count": 3,
   "metadata": {},
   "outputs": [],
   "source": [
    "#stemming for positive lexicon\n",
    "filename=\"positive_words.csv\"\n",
    "f=open(filename,\"w\")\n",
    "for w in pos_words: \n",
    "  f.write(ps.stem(w)+\"\\n\")\n",
    "f.close()\n",
    "#stemming for negative lexicon\n",
    "filename=\"negative_words.csv\"\n",
    "f=open(filename,\"w\")\n",
    "for w in neg_words: \n",
    "    f.write(ps.stem(w)+\"\\n\")\n",
    "f.close()"
   ]
  },
  {
   "cell_type": "code",
   "execution_count": 4,
   "metadata": {},
   "outputs": [
    {
     "name": "stdout",
     "output_type": "stream",
     "text": [
      "i work for the post office needed this works \n",
      "did\n"
     ]
    }
   ],
   "source": [
    "filename = \"stemmingReview.csv\"\n",
    "f=open(filename,\"w\")\n",
    "for(content,label) in data_content:\n",
    "    contentWords = word_tokenize(content)\n",
    "    for w in contentWords:\n",
    "        f.write(ps.stem(w).lower()+\" \")\n",
    "    f.write(\",\")    \n",
    "    f.write(label+\"\\n\")\n",
    "print(ps.stem(content))\n",
    "print(ps.stem(\"did\"))\n",
    "f.close()"
   ]
  },
  {
   "cell_type": "code",
   "execution_count": null,
   "metadata": {},
   "outputs": [],
   "source": []
  }
 ],
 "metadata": {
  "kernelspec": {
   "display_name": "Python 3",
   "language": "python",
   "name": "python3"
  },
  "language_info": {
   "codemirror_mode": {
    "name": "ipython",
    "version": 3
   },
   "file_extension": ".py",
   "mimetype": "text/x-python",
   "name": "python",
   "nbconvert_exporter": "python",
   "pygments_lexer": "ipython3",
   "version": "3.6.6"
  }
 },
 "nbformat": 4,
 "nbformat_minor": 2
}
