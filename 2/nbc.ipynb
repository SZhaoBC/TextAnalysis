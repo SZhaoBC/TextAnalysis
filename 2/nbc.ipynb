{
 "cells": [
  {
   "cell_type": "code",
   "execution_count": 1,
   "metadata": {},
   "outputs": [],
   "source": [
    "import numpy as np # linear algebra\n",
    "import nltk\n",
    "from nltk.corpus import movie_reviews\n",
    "from nltk.tokenize import word_tokenize\n",
    "import pandas as pd\n",
    "from string import punctuation\n",
    "from nltk.stem import PorterStemmer"
   ]
  },
  {
   "cell_type": "code",
   "execution_count": 2,
   "metadata": {},
   "outputs": [],
   "source": [
    "data = open('stemmingReview.csv','r')\n",
    "# Keeping only the neccessary columns\n",
    "data_content = []\n",
    "for line in data:\n",
    "  line.rstrip('\\n') \n",
    "  data_content.append(list(line.strip().split(',')))"
   ]
  },
  {
   "cell_type": "code",
   "execution_count": 3,
   "metadata": {},
   "outputs": [],
   "source": [
    "p_words = open('positive_words.csv','r')\n",
    "pos_words = [line.rstrip('\\n') for line in p_words]\n",
    "n_words = open('negative_words.csv','r')\n",
    "neg_words = [line.rstrip('\\n') for line in n_words]"
   ]
  },
  {
   "cell_type": "code",
   "execution_count": 4,
   "metadata": {},
   "outputs": [],
   "source": [
    "all_words = []\n",
    "all_words = nltk.FreqDist(all_words)"
   ]
  },
  {
   "cell_type": "code",
   "execution_count": 13,
   "metadata": {},
   "outputs": [],
   "source": [
    "def feature_extraction(document):\n",
    "   words = word_tokenize(document)\n",
    "   words = set(words)\n",
    "   pos_wordsSet=set(pos_words)\n",
    "   neg_wordsSet=set(neg_words)\n",
    "   features = {}\n",
    "   for w in pos_wordsSet:\n",
    "        features[w] = (w in words)\n",
    "   for w in neg_wordsSet:\n",
    "        features[w] = (w in words)\n",
    "   return features"
   ]
  },
  {
   "cell_type": "code",
   "execution_count": 14,
   "metadata": {},
   "outputs": [
    {
     "name": "stdout",
     "output_type": "stream",
     "text": [
      "the accuracy of Naive Bayes classifier is:0.848297213622291\n",
      "Most Informative Features\n",
      "                    amaz = True           positi : negati =      7.8 : 1.0\n",
      "                   stuck = True           negati : positi =      7.4 : 1.0\n",
      "                    pain = True           negati : positi =      7.2 : 1.0\n",
      "                    bump = True           negati : positi =      6.4 : 1.0\n",
      "                   secur = True           positi : negati =      6.0 : 1.0\n",
      "                    suck = True           negati : positi =      5.9 : 1.0\n",
      "               perfectli = True           positi : negati =      5.8 : 1.0\n",
      "                    fell = True           negati : positi =      5.5 : 1.0\n",
      "                  poorli = True           negati : positi =      5.5 : 1.0\n",
      "                   gener = True           negati : positi =      5.5 : 1.0\n",
      "                    junk = True           negati : positi =      5.5 : 1.0\n",
      "                  provid = True           positi : negati =      5.1 : 1.0\n",
      "                     bad = True           negati : positi =      5.1 : 1.0\n",
      "                   clear = True           positi : negati =      5.0 : 1.0\n",
      "                    hang = True           negati : positi =      4.7 : 1.0\n"
     ]
    }
   ],
   "source": [
    "featuresets = [(feature_extraction(content),label) for(content,label) in data_content]\n",
    "train_set,test_set = featuresets[:4000],featuresets[4000:]\n",
    "classifier = nltk.NaiveBayesClassifier.train(train_set)\n",
    "accuracy = nltk.classify.accuracy(classifier,test_set)\n",
    "print(\"the accuracy of Naive Bayes classifier is:\" + str(accuracy))\n",
    "classifier.show_most_informative_features(15)"
   ]
  },
  {
   "cell_type": "code",
   "execution_count": null,
   "metadata": {},
   "outputs": [],
   "source": [
    "    "
   ]
  }
 ],
 "metadata": {
  "kernelspec": {
   "display_name": "Python 3",
   "language": "python",
   "name": "python3"
  },
  "language_info": {
   "codemirror_mode": {
    "name": "ipython",
    "version": 3
   },
   "file_extension": ".py",
   "mimetype": "text/x-python",
   "name": "python",
   "nbconvert_exporter": "python",
   "pygments_lexer": "ipython3",
   "version": "3.6.6"
  }
 },
 "nbformat": 4,
 "nbformat_minor": 2
}
